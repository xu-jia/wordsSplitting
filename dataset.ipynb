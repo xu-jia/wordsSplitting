{
 "cells": [
  {
   "cell_type": "code",
   "execution_count": 155,
   "id": "dae0cf8a",
   "metadata": {},
   "outputs": [],
   "source": [
    "# import some useful package for reading and parsing text files\n",
    "import json\n",
    "import csv"
   ]
  },
  {
   "cell_type": "code",
   "execution_count": 182,
   "id": "50396af2",
   "metadata": {},
   "outputs": [],
   "source": [
    "# method MM\n",
    "f = open(\"data/resultat_MM.txt\", \"r\")\n",
    "txt = f.readlines()\n",
    "data = []\n",
    "for t in txt:\n",
    "    data.append(list(eval(t, {'__builtins__':None}, {})))\n",
    "json_str = json.dumps(data)\n",
    "with open(\"fdata/mm.json\", 'w') as outfile:\n",
    "    outfile.write(json_str)"
   ]
  },
  {
   "cell_type": "code",
   "execution_count": 8,
   "id": "3d161a31",
   "metadata": {},
   "outputs": [],
   "source": [
    "# method sougou\n",
    "f = open(\"data/resultat_sougou.txt\", \"r\")\n",
    "txt = f.readlines()\n",
    "data = []\n",
    "for t in txt:\n",
    "    nt = t.strip().split(\" \")\n",
    "    data.append([nw.split(\"|\")[0] for nw in nt])\n",
    "json_str = json.dumps(data)\n",
    "with open(\"fdata/sougou.json\", 'w') as outfile:\n",
    "    outfile.write(json_str)"
   ]
  },
  {
   "cell_type": "code",
   "execution_count": 95,
   "id": "9e850785",
   "metadata": {},
   "outputs": [],
   "source": [
    "# method jieba\n",
    "f = open(\"data/resultat_jieba.txt\", \"r\")\n",
    "txt = f.readlines()\n",
    "data = []\n",
    "for t in txt:\n",
    "    data.append(eval(t, {'__builtins__':None}, {}))\n",
    "json_str = json.dumps(data)\n",
    "with open(\"fdata/jieba.json\", 'w') as outfile:\n",
    "    outfile.write(json_str)"
   ]
  },
  {
   "cell_type": "code",
   "execution_count": 124,
   "id": "505036b7",
   "metadata": {},
   "outputs": [],
   "source": [
    "# method LAC\n",
    "f = open(\"data/resultat_LAC.txt\", \"r\")\n",
    "txt = f.readlines()\n",
    "data = []\n",
    "for t in txt:\n",
    "    data.append(eval(t, {'__builtins__':None}, {}))\n",
    "json_str = json.dumps(data)\n",
    "with open(\"fdata/lac.json\", 'w') as outfile:\n",
    "    outfile.write(json_str)"
   ]
  },
  {
   "cell_type": "code",
   "execution_count": 190,
   "id": "1530c282",
   "metadata": {},
   "outputs": [],
   "source": [
    "# method FMM\n",
    "f = open(\"data/resultat_FMM.txt\", \"r\")\n",
    "txt = f.readlines()\n",
    "data = []\n",
    "for t in txt[::-1]:\n",
    "    data.append(list(eval(t, {'__builtins__':None}, {})))\n",
    "json_str = json.dumps(data)\n",
    "with open(\"fdata/fmm.json\", 'w') as outfile:\n",
    "    outfile.write(json_str)"
   ]
  },
  {
   "cell_type": "code",
   "execution_count": 174,
   "id": "813d6656",
   "metadata": {},
   "outputs": [],
   "source": [
    "# the reference word splitting text \n",
    "f = open(\"data/Reference_chs_gsd-ud-test.txt\", \"r\")\n",
    "txt = f.readlines()\n",
    "data = []\n",
    "\n",
    "tab = csv.reader(txt,delimiter='\\t')\n",
    "tmp = []\n",
    "for line in tab:\n",
    "    if len(line)<2:\n",
    "        continue\n",
    "    if line[0] == \"1\" and tmp:\n",
    "        data.append(tmp)\n",
    "        tmp = []\n",
    "    if line[0].isdigit():\n",
    "        tmp.append(line[1])\n",
    "data.append(tmp)\n",
    "json_str = json.dumps(data)\n",
    "with open(\"fdata/ref.json\", 'w') as outfile:\n",
    "    outfile.write(json_str)      "
   ]
  }
 ],
 "metadata": {
  "kernelspec": {
   "display_name": "Python 3",
   "language": "python",
   "name": "python3"
  },
  "language_info": {
   "codemirror_mode": {
    "name": "ipython",
    "version": 3
   },
   "file_extension": ".py",
   "mimetype": "text/x-python",
   "name": "python",
   "nbconvert_exporter": "python",
   "pygments_lexer": "ipython3",
   "version": "3.6.8"
  }
 },
 "nbformat": 4,
 "nbformat_minor": 5
}
